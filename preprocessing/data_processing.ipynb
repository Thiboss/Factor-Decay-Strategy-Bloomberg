{
 "cells": [
  {
   "cell_type": "code",
   "execution_count": 6,
   "metadata": {},
   "outputs": [],
   "source": [
    "import pandas as pd\n",
    "from tqdm import tqdm"
   ]
  },
  {
   "cell_type": "code",
   "execution_count": 3,
   "metadata": {},
   "outputs": [],
   "source": [
    "df = pd.read_excel(\"Input/PX_LAST.xlsx\")"
   ]
  },
  {
   "cell_type": "code",
   "execution_count": 22,
   "metadata": {},
   "outputs": [],
   "source": [
    "df_ref = pd.read_excel(\"Input/df_ref.xlsx\")"
   ]
  },
  {
   "cell_type": "code",
   "execution_count": 14,
   "metadata": {},
   "outputs": [
    {
     "name": "stderr",
     "output_type": "stream",
     "text": [
      "Analyse des colonnes: 100%|██████████| 856/856 [00:00<00:00, 3252.24it/s]"
     ]
    },
    {
     "name": "stdout",
     "output_type": "stream",
     "text": [
      "Colonnes avec des valeurs différentes de la suivante : []\n"
     ]
    },
    {
     "name": "stderr",
     "output_type": "stream",
     "text": [
      "\n"
     ]
    }
   ],
   "source": [
    "def find_unique_columns_with_progress(df):\n",
    "    different_columns = []\n",
    "    # Utiliser tqdm pour suivre la progression des colonnes\n",
    "    for col in tqdm(df.columns, desc=\"Analyse des colonnes\"):\n",
    "        # Comparaison avec la valeur suivante\n",
    "        differences = df[col] != df[col].shift(-1)\n",
    "        # Si toutes les différences sont True, ajouter la colonne à la liste\n",
    "        if differences[:-1].all():\n",
    "            different_columns.append(col)\n",
    "    \n",
    "    return different_columns\n",
    "\n",
    "# Appel de la fonction\n",
    "result = find_unique_columns_with_progress(df)\n",
    "print(\"Colonnes avec des valeurs différentes de la suivante :\", result)"
   ]
  },
  {
   "cell_type": "code",
   "execution_count": 12,
   "metadata": {},
   "outputs": [],
   "source": [
    "start_date = pd.to_datetime(\"2002-01-31\")\n",
    "end_date = pd.to_datetime(\"2025-02-15\")\n",
    "\n",
    "# Générer une plage de 6002 dates uniformément espacées\n",
    "dates = pd.date_range(start=start_date, end=end_date, freq='B')"
   ]
  },
  {
   "cell_type": "code",
   "execution_count": 17,
   "metadata": {},
   "outputs": [],
   "source": [
    "differences = df[\"NDSN UW Equity\"] != df[\"NDSN UW Equity\"].shift(-1)"
   ]
  },
  {
   "cell_type": "code",
   "execution_count": 24,
   "metadata": {},
   "outputs": [],
   "source": [
    "differences_ref = df_ref[\"NDSN UW Equity\"] != df_ref[\"NDSN UW Equity\"].shift(-1)"
   ]
  },
  {
   "cell_type": "code",
   "execution_count": null,
   "metadata": {},
   "outputs": [],
   "source": [
    "index_df = differences[differences].index\n",
    "index_ref = differences_ref[differences_ref].index"
   ]
  },
  {
   "cell_type": "code",
   "execution_count": null,
   "metadata": {},
   "outputs": [],
   "source": [
    "df_ref_fin = df_ref.iloc[index_ref].reset_index(drop=True)\n",
    "df_fin = df.iloc[index_df].reset_index(drop=True)"
   ]
  },
  {
   "cell_type": "code",
   "execution_count": 54,
   "metadata": {},
   "outputs": [],
   "source": [
    "df_fin.insert(0, 'DATE',df_ref_fin['Date'])"
   ]
  },
  {
   "cell_type": "code",
   "execution_count": null,
   "metadata": {},
   "outputs": [],
   "source": [
    "df_fin.to_excel(\"Input/PX_LAST_REAL.xlsx\", index = False)"
   ]
  }
 ],
 "metadata": {
  "kernelspec": {
   "display_name": "base",
   "language": "python",
   "name": "python3"
  },
  "language_info": {
   "codemirror_mode": {
    "name": "ipython",
    "version": 3
   },
   "file_extension": ".py",
   "mimetype": "text/x-python",
   "name": "python",
   "nbconvert_exporter": "python",
   "pygments_lexer": "ipython3",
   "version": "3.12.3"
  }
 },
 "nbformat": 4,
 "nbformat_minor": 2
}
