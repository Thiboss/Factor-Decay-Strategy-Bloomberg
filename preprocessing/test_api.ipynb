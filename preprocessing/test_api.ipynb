{
 "cells": [
  {
   "cell_type": "code",
   "execution_count": null,
   "id": "cfe585f4",
   "metadata": {},
   "outputs": [],
   "source": [
    "from src.data_loader import DataLoader\n",
    "from datetime import datetime"
   ]
  },
  {
   "cell_type": "code",
   "execution_count": null,
   "id": "391646b5",
   "metadata": {},
   "outputs": [
    {
     "name": "stderr",
     "output_type": "stream",
     "text": [
      "C:\\Users\\tc201332\\AppData\\Local\\Temp\\ipykernel_27448\\547837344.py:372: FutureWarning: 'M' is deprecated and will be removed in a future version, please use 'ME' instead.\n",
      "  dates = pd.date_range(start = start_date_dt, end = end_date_dt, freq='M')\n"
     ]
    }
   ],
   "source": [
    "temp = DataLoader()\n",
    "temp_csv = temp.load_tickers_index(index=\"CAC Index\", start_date_dt=datetime(2005, 1,1), end_date_dt=datetime(2025,1,1))"
   ]
  },
  {
   "cell_type": "code",
   "execution_count": null,
   "id": "d22f3954",
   "metadata": {},
   "outputs": [
    {
     "name": "stdout",
     "output_type": "stream",
     "text": [
      "Sending request\n"
     ]
    }
   ],
   "source": [
    "tickers = [x + \" Equity\" for x in temp_csv.columns]\n",
    "dict_bdh = temp.load_historical_data(tickers=tickers, start_date=datetime(2005, 1,1), end_date=datetime(2025,1,1))\n",
    "for field, df_field in dict_bdh.items():\n",
    "    print(f\"Field: {field}\")\n",
    "    display(df_field.head())"
   ]
  }
 ],
 "metadata": {
  "kernelspec": {
   "display_name": "Python 3",
   "language": "python",
   "name": "python3"
  },
  "language_info": {
   "codemirror_mode": {
    "name": "ipython",
    "version": 3
   },
   "file_extension": ".py",
   "mimetype": "text/x-python",
   "name": "python",
   "nbconvert_exporter": "python",
   "pygments_lexer": "ipython3",
   "version": "3.13.5"
  }
 },
 "nbformat": 4,
 "nbformat_minor": 5
}
